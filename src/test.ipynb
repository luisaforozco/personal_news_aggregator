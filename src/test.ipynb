{
 "cells": [
  {
   "cell_type": "code",
   "execution_count": 1,
   "id": "bce88ba5",
   "metadata": {},
   "outputs": [
    {
     "name": "stderr",
     "output_type": "stream",
     "text": [
      "USER_AGENT environment variable not set, consider setting it to identify your requests.\n"
     ]
    }
   ],
   "source": [
    "from langchain_community.document_loaders import AsyncChromiumLoader\n",
    "from langchain_community.document_loaders import AsyncHtmlLoader\n",
    "\n",
    "from langchain_community.document_transformers import BeautifulSoupTransformer\n",
    "from langchain_community.document_transformers import Html2TextTransformer"
   ]
  },
  {
   "cell_type": "code",
   "execution_count": 3,
   "id": "4ba4ec82",
   "metadata": {},
   "outputs": [],
   "source": [
    "def load_html(url):\n",
    "    # Load HTML\n",
    "    loader = AsyncChromiumLoader([url])\n",
    "    html = loader.load()\n",
    "\n",
    "    # Transform\n",
    "    bs_transformer = BeautifulSoupTransformer()\n",
    "    docs_transformed = bs_transformer.transform_documents(html, tags_to_extract=[\"span\"])\n",
    "\n",
    "    # Result\n",
    "    return docs_transformed[0].page_content[0:500]\n"
   ]
  },
  {
   "cell_type": "code",
   "execution_count": 4,
   "id": "82d2bad1",
   "metadata": {},
   "outputs": [],
   "source": [
    "def load_html_2(list_urls):\n",
    "    loader = AsyncHtmlLoader(list_urls)\n",
    "    docs = loader.load()\n",
    "\n",
    "    html2text = Html2TextTransformer()\n",
    "    docs_transformed = html2text.transform_documents(docs)\n",
    "    return docs_transformed[0].page_content[0:500]"
   ]
  },
  {
   "cell_type": "code",
   "execution_count": 5,
   "id": "7f639b5c",
   "metadata": {},
   "outputs": [],
   "source": [
    "urls = [\"https://www.nu.nl/economie/6351889/consumentenbond-opent-meldpunt-voor-gedupeerden-variabel-energiecontract.html\"]"
   ]
  },
  {
   "cell_type": "code",
   "execution_count": 7,
   "id": "12cbf445",
   "metadata": {},
   "outputs": [
    {
     "name": "stderr",
     "output_type": "stream",
     "text": [
      "USER_AGENT environment variable not set, consider setting it to identify your requests.\n"
     ]
    },
    {
     "ename": "RuntimeError",
     "evalue": "asyncio.run() cannot be called from a running event loop",
     "output_type": "error",
     "traceback": [
      "\u001b[31m---------------------------------------------------------------------------\u001b[39m",
      "\u001b[31mRuntimeError\u001b[39m                              Traceback (most recent call last)",
      "\u001b[36mCell\u001b[39m\u001b[36m \u001b[39m\u001b[32mIn[7]\u001b[39m\u001b[32m, line 1\u001b[39m\n\u001b[32m----> \u001b[39m\u001b[32m1\u001b[39m ans = \u001b[43mload_html\u001b[49m\u001b[43m(\u001b[49m\u001b[43murls\u001b[49m\u001b[43m[\u001b[49m\u001b[32;43m0\u001b[39;49m\u001b[43m]\u001b[49m\u001b[43m)\u001b[49m\n\u001b[32m      2\u001b[39m \u001b[38;5;28mprint\u001b[39m(ans)\n",
      "\u001b[36mCell\u001b[39m\u001b[36m \u001b[39m\u001b[32mIn[3]\u001b[39m\u001b[32m, line 4\u001b[39m, in \u001b[36mload_html\u001b[39m\u001b[34m(url)\u001b[39m\n\u001b[32m      1\u001b[39m \u001b[38;5;28;01mdef\u001b[39;00m\u001b[38;5;250m \u001b[39m\u001b[34mload_html\u001b[39m(url):\n\u001b[32m      2\u001b[39m     \u001b[38;5;66;03m# Load HTML\u001b[39;00m\n\u001b[32m      3\u001b[39m     loader = AsyncChromiumLoader([url])\n\u001b[32m----> \u001b[39m\u001b[32m4\u001b[39m     html = \u001b[43mloader\u001b[49m\u001b[43m.\u001b[49m\u001b[43mload\u001b[49m\u001b[43m(\u001b[49m\u001b[43m)\u001b[49m\n\u001b[32m      6\u001b[39m     \u001b[38;5;66;03m# Transform\u001b[39;00m\n\u001b[32m      7\u001b[39m     bs_transformer = BeautifulSoupTransformer()\n",
      "\u001b[36mFile \u001b[39m\u001b[32m/opt/homebrew/Caskroom/miniforge/base/envs/ibm_hack/lib/python3.12/site-packages/langchain_core/document_loaders/base.py:32\u001b[39m, in \u001b[36mBaseLoader.load\u001b[39m\u001b[34m(self)\u001b[39m\n\u001b[32m     30\u001b[39m \u001b[38;5;28;01mdef\u001b[39;00m\u001b[38;5;250m \u001b[39m\u001b[34mload\u001b[39m(\u001b[38;5;28mself\u001b[39m) -> \u001b[38;5;28mlist\u001b[39m[Document]:\n\u001b[32m     31\u001b[39m \u001b[38;5;250m    \u001b[39m\u001b[33;03m\"\"\"Load data into Document objects.\"\"\"\u001b[39;00m\n\u001b[32m---> \u001b[39m\u001b[32m32\u001b[39m     \u001b[38;5;28;01mreturn\u001b[39;00m \u001b[38;5;28;43mlist\u001b[39;49m\u001b[43m(\u001b[49m\u001b[38;5;28;43mself\u001b[39;49m\u001b[43m.\u001b[49m\u001b[43mlazy_load\u001b[49m\u001b[43m(\u001b[49m\u001b[43m)\u001b[49m\u001b[43m)\u001b[49m\n",
      "\u001b[36mFile \u001b[39m\u001b[32m/opt/homebrew/Caskroom/miniforge/base/envs/ibm_hack/lib/python3.12/site-packages/langchain_community/document_loaders/chromium.py:85\u001b[39m, in \u001b[36mAsyncChromiumLoader.lazy_load\u001b[39m\u001b[34m(self)\u001b[39m\n\u001b[32m     74\u001b[39m \u001b[38;5;250m\u001b[39m\u001b[33;03m\"\"\"\u001b[39;00m\n\u001b[32m     75\u001b[39m \u001b[33;03mLazily load text content from the provided URLs.\u001b[39;00m\n\u001b[32m     76\u001b[39m \n\u001b[32m   (...)\u001b[39m\u001b[32m     82\u001b[39m \n\u001b[32m     83\u001b[39m \u001b[33;03m\"\"\"\u001b[39;00m\n\u001b[32m     84\u001b[39m \u001b[38;5;28;01mfor\u001b[39;00m url \u001b[38;5;129;01min\u001b[39;00m \u001b[38;5;28mself\u001b[39m.urls:\n\u001b[32m---> \u001b[39m\u001b[32m85\u001b[39m     html_content = \u001b[43masyncio\u001b[49m\u001b[43m.\u001b[49m\u001b[43mrun\u001b[49m\u001b[43m(\u001b[49m\u001b[38;5;28;43mself\u001b[39;49m\u001b[43m.\u001b[49m\u001b[43mascrape_playwright\u001b[49m\u001b[43m(\u001b[49m\u001b[43murl\u001b[49m\u001b[43m)\u001b[49m\u001b[43m)\u001b[49m\n\u001b[32m     86\u001b[39m     metadata = {\u001b[33m\"\u001b[39m\u001b[33msource\u001b[39m\u001b[33m\"\u001b[39m: url}\n\u001b[32m     87\u001b[39m     \u001b[38;5;28;01myield\u001b[39;00m Document(page_content=html_content, metadata=metadata)\n",
      "\u001b[36mFile \u001b[39m\u001b[32m/opt/homebrew/Caskroom/miniforge/base/envs/ibm_hack/lib/python3.12/asyncio/runners.py:191\u001b[39m, in \u001b[36mrun\u001b[39m\u001b[34m(main, debug, loop_factory)\u001b[39m\n\u001b[32m    161\u001b[39m \u001b[38;5;250m\u001b[39m\u001b[33;03m\"\"\"Execute the coroutine and return the result.\u001b[39;00m\n\u001b[32m    162\u001b[39m \n\u001b[32m    163\u001b[39m \u001b[33;03mThis function runs the passed coroutine, taking care of\u001b[39;00m\n\u001b[32m   (...)\u001b[39m\u001b[32m    187\u001b[39m \u001b[33;03m    asyncio.run(main())\u001b[39;00m\n\u001b[32m    188\u001b[39m \u001b[33;03m\"\"\"\u001b[39;00m\n\u001b[32m    189\u001b[39m \u001b[38;5;28;01mif\u001b[39;00m events._get_running_loop() \u001b[38;5;129;01mis\u001b[39;00m \u001b[38;5;129;01mnot\u001b[39;00m \u001b[38;5;28;01mNone\u001b[39;00m:\n\u001b[32m    190\u001b[39m     \u001b[38;5;66;03m# fail fast with short traceback\u001b[39;00m\n\u001b[32m--> \u001b[39m\u001b[32m191\u001b[39m     \u001b[38;5;28;01mraise\u001b[39;00m \u001b[38;5;167;01mRuntimeError\u001b[39;00m(\n\u001b[32m    192\u001b[39m         \u001b[33m\"\u001b[39m\u001b[33masyncio.run() cannot be called from a running event loop\u001b[39m\u001b[33m\"\u001b[39m)\n\u001b[32m    194\u001b[39m \u001b[38;5;28;01mwith\u001b[39;00m Runner(debug=debug, loop_factory=loop_factory) \u001b[38;5;28;01mas\u001b[39;00m runner:\n\u001b[32m    195\u001b[39m     \u001b[38;5;28;01mreturn\u001b[39;00m runner.run(main)\n",
      "\u001b[31mRuntimeError\u001b[39m: asyncio.run() cannot be called from a running event loop"
     ]
    }
   ],
   "source": [
    "ans = load_html(urls[0])\n",
    "print(ans)\n"
   ]
  },
  {
   "cell_type": "code",
   "execution_count": 8,
   "id": "22bfeb2a",
   "metadata": {},
   "outputs": [
    {
     "name": "stderr",
     "output_type": "stream",
     "text": [
      "Fetching pages: 100%|##########| 1/1 [00:00<00:00,  4.05it/s]"
     ]
    },
    {
     "name": "stdout",
     "output_type": "stream",
     "text": [
      "\n",
      "\n",
      "\n"
     ]
    },
    {
     "name": "stderr",
     "output_type": "stream",
     "text": [
      "\n"
     ]
    }
   ],
   "source": [
    "res = load_html_2(urls)\n",
    "print(res)"
   ]
  },
  {
   "cell_type": "code",
   "execution_count": 9,
   "id": "f97bc318",
   "metadata": {},
   "outputs": [
    {
     "data": {
      "text/plain": [
       "'\\n\\n'"
      ]
     },
     "execution_count": 9,
     "metadata": {},
     "output_type": "execute_result"
    }
   ],
   "source": [
    "res"
   ]
  },
  {
   "cell_type": "code",
   "execution_count": 10,
   "id": "1c20e65d",
   "metadata": {},
   "outputs": [
    {
     "name": "stderr",
     "output_type": "stream",
     "text": [
      "Fetching pages: 100%|##########| 2/2 [00:00<00:00,  4.33it/s]\n"
     ]
    }
   ],
   "source": [
    "from langchain_community.document_loaders import AsyncHtmlLoader\n",
    "\n",
    "urls = [\"https://www.espn.com\", \"https://lilianweng.github.io/posts/2023-06-23-agent/\"]\n",
    "loader = AsyncHtmlLoader(urls)\n",
    "docs = loader.load()"
   ]
  },
  {
   "cell_type": "code",
   "execution_count": 12,
   "id": "af19f422",
   "metadata": {},
   "outputs": [
    {
     "name": "stdout",
     "output_type": "stream",
     "text": [
      "\n",
      "\n",
      "\u001b[1m> Entering new AgentExecutor chain...\u001b[0m\n",
      "\u001b[32;1m\u001b[1;3mAction: scrape_website\n",
      "Action Input: https://www.nu.nl/economie/6351918/boeing-schikt-met-deel-nabestaanden-van-slachtoffers-ethiopian-airlines-crash.html\u001b[0m\n",
      "Observation: \u001b[36;1m\u001b[1;3m\u001b[0m\n",
      "Thought:\u001b[32;1m\u001b[1;3mQuestion: Scrape the website: https://www.nu.nl/economie/6351918/boeing-schikt-met-deel-nabestaanden-van-slachtoffers-ethiopian-airlines-crash.html\n",
      "Thought: Action: scrape_website\n",
      "Action Input: https://www.nu.nl/economie/6351918/boeing-schikt-met-deel-nabestaanden-van-slachtoffers-ethiopian-airlines-crash.html\u001b[0m\n",
      "Observation: \u001b[36;1m\u001b[1;3m\u001b[0m\n",
      "Thought:\u001b[32;1m\u001b[1;3mQuestion: Scrape the website: https://www.nu.nl/economie/6351918/boeing-schikt-met-deel-nabestaanden-van-slachtoffers-ethiopian-airlines-crash.html\n",
      "Thought: Action: scrape_website\n",
      "Action Input: https://www.nu.nl/economie/6351918/boeing-schikt-met-deel-nabestaanden-van-slachtoffers-ethiopian-airlines-crash.html\u001b[0m\n",
      "Observation: \u001b[36;1m\u001b[1;3m\u001b[0m\n",
      "Thought:\u001b[32;1m\u001b[1;3mQuestion: Scrape the website: https://www.nu.nl/economie/6351918/boeing-schikt-met-deel-nabestaanden-van-slachtoffers-ethiopian-airlines-crash.html\n",
      "Thought: I want to get the content of this webpage, but it will be too time-consuming if I do it manually.\n",
      "Action: scrape_website\n",
      "Action Input: https://www.nu.nl/economie/6351918/boeing-schikt-met-deel-nabestaanden-van-slachtoffers-ethiopian-airlines-crash.html\u001b[0m\n",
      "Observation: \u001b[36;1m\u001b[1;3m\u001b[0m\n",
      "Thought:\u001b[32;1m\u001b[1;3mQuestion: Scrape the website: https://www.nu.nl/economie/6351918/boeing-schikt-met-deel-nabestaanden-van-slachtoffers-ethiopian-airlines-crash.html\n",
      "Thought:Action: scrape_website\n",
      "Action Input: https://www.nu.nl/economie/6351918/boeing-schikt-met-deel-nabestaanden-van-slachtoffers-ethiopian-airlines-crash.html\u001b[0m\n",
      "Observation: \u001b[36;1m\u001b[1;3m\u001b[0m\n",
      "Thought:\u001b[32;1m\u001b[1;3mQuestion: Scrape the website: https://www.nu.nl/economie/6351918/boeing-schikt-met-deel-nabestaanden-van-slachtoffers-ethiopian-airlines-crash.html\n",
      "Thought: Action: scrape_website\n",
      "Action Input: https://www.nu.nl/economie/6351918/boeing-schikt-met-deel-nabestaanden-van-slachtoffers-ethiopian-airlines-crash.html\u001b[0m\n",
      "Observation: \u001b[36;1m\u001b[1;3m\u001b[0m\n",
      "Thought:\u001b[32;1m\u001b[1;3mQuestion: Scrape the website: https://www.nu.nl/economie/6351918/boeing-schikt-met-deel-nabestaanden-van-slachtoffers-ethiopian-airlines-crash.html\n",
      "Thought:Action: scrape_website\n",
      "Action Input: https://www.nu.nl/economie/6351918/boeing-schikt-met-deel-nabestaanden-van-slachtoffers-ethiopian-airlines-crash.html\u001b[0m\n",
      "Observation: \u001b[36;1m\u001b[1;3m\u001b[0m\n",
      "Thought:\u001b[32;1m\u001b[1;3mHere is the answer in the required format:\n",
      "\n",
      "Question: Scrape the website: https://www.nu.nl/economie/6351918/boeing-schikt-met-deel-nabestaanden-van-slachtoffers-ethiopian-airlines-crash.html\n",
      "Thought:Action: scrape_website\n",
      "Action Input: https://www.nu.nl/economie/6351918/boeing-schikt-met-deel-nabestaanden-van-slachtoffers-ethiopian-airlines-crash.html\u001b[0m\n",
      "Observation: \u001b[36;1m\u001b[1;3m\u001b[0m\n",
      "Thought:\u001b[32;1m\u001b[1;3mQuestion: Scrape the website: https://www.nu.nl/economie/6351918/boeing-schikt-met-deel-nabestaanden-van-slachtoffers-ethiopian-airlines-crash.html\n",
      "Thought:Action: scrape_website\n",
      "Action Input: https://www.nu.nl/economie/6351918/boeing-schikt-met-deel-nabestaanden-van-slachtoffers-ethiopian-airlines-crash.html\u001b[0m\n",
      "Observation: \u001b[36;1m\u001b[1;3m\u001b[0m\n",
      "Thought:\u001b[32;1m\u001b[1;3mQuestion: Scrape the website: https://www.nu.nl/economie/6351918/boeing-schikt-met-deel-nabestaanden-van-slachtoffers-ethiopian-airlines-crash.html\n",
      "Thought: I want to get the content of this webpage, but it will be too time-consuming if I do it manually.\n",
      "Action: scrape_website\n",
      "Action Input: https://www.nu.nl/economie/6351918/boeing-schikt-met-deel-nabestaanden-van-slachtoffers-ethiopian-airlines-crash.html\u001b[0m\n",
      "Observation: \u001b[36;1m\u001b[1;3m\u001b[0m\n",
      "Thought:\u001b[32;1m\u001b[1;3mHere is the answer in the required format:\n",
      "\n",
      "Question: Scrape the website: https://www.nu.nl/economie/6351918/boeing-schikt-met-deel-nabestaanden-van-slachtoffers-ethiopian-airlines-crash.html\n",
      "Thought: Action: scrape_website\n",
      "Action Input: https://www.nu.nl/economie/6351918/boeing-schikt-met-deel-nabestaanden-van-slachtoffers-ethiopian-airlines-crash.html\u001b[0m\n",
      "Observation: \u001b[36;1m\u001b[1;3m\u001b[0m\n",
      "Thought:\u001b[32;1m\u001b[1;3mQuestion: What is the content of the webpage https://www.nu.nl/economie/6351918/boeing-schikt-met-deel-nabestaanden-van-slachtoffers-ethiopian-airlines-crash.html?\n",
      "\n",
      "Thought: I want to get the content of this webpage, but it will be too time-consuming if I do it manually.\n",
      "\n",
      "Action: scrape_website\n",
      "\n",
      "Action Input: https://www.nu.nl/economie/6351918/boeing-schikt-met-deel-nabestaanden-van-slachtoffers-ethiopian-airlines-crash.html\n",
      "\u001b[0m\n",
      "Observation: \u001b[36;1m\u001b[1;3m\u001b[0m\n",
      "Thought:\u001b[32;1m\u001b[1;3mQuestion: What is the content of the webpage https://www.nu.nl/economie/6351918/boeing-schikt-met-deel-nabestaanden-van-slachtoffers-ethiopian-airlines-crash.html?\n",
      "\n",
      "Thought: I want to get the content of this webpage, but it will be too time-consuming if I do it manually.\n",
      "\n",
      "Action: scrape_website\n",
      "\n",
      "Action Input: https://www.nu.nl/economie/6351918/boeing-schikt-met-deel-nabestaanden-van-slachtoffers-ethiopian-airlines-crash.html\n",
      "\u001b[0m\n",
      "Observation: \u001b[36;1m\u001b[1;3m\u001b[0m\n",
      "Thought:\u001b[32;1m\u001b[1;3mQuestion: What is the content of the webpage https://www.nu.nl/economie/6351918/boeing-schikt-met-deel-nabestaanden-van-slachtoffers-ethiopian-airlines-crash.html?\n",
      "\n",
      "Thought: I want to get the content of this webpage, but it will be too time-consuming if I do it manually.\n",
      "\n",
      "Action: scrape_website\n",
      "\n",
      "Action Input: https://www.nu.nl/economie/6351918/boeing-schikt-met-deel-nabestaanden-van-slachtoffers-ethiopian-airlines-crash.html\n",
      "\u001b[0m\n",
      "Observation: \u001b[36;1m\u001b[1;3m\u001b[0m\n",
      "Thought:\u001b[32;1m\u001b[1;3mQuestion: What is the content of the webpage https://www.nu.nl/economie/6351918/boeing-schikt-met-deel-nabestaanden-van-slachtoffers-ethiopian-airlines-crash.html?\n",
      "Thought:Action: scrape_website\n",
      "Action Input: https://www.nu.nl/economie/6351918/boeing-schikt-met-deel-nabestaanden-van-slachtoffers-ethiopian-airlines-crash.html\u001b[0m\n",
      "Observation: \u001b[36;1m\u001b[1;3m\u001b[0m\n",
      "Thought:\u001b[32;1m\u001b[1;3m\u001b[0m\n",
      "\n",
      "\u001b[1m> Finished chain.\u001b[0m\n",
      "\n",
      "📌 Summary:\n",
      "It seems like there's not enough information provided for me to create a summary, as the phrase \"Agent stopped due to iteration limit or time limit\" appears to be a technical error message rather than a text that needs summarization.\n",
      "\n",
      "If you could provide more context or clarify what this message means in relation to your query, I'd be happy to try and assist you further.\n"
     ]
    }
   ],
   "source": [
    "from langchain.agents import initialize_agent, Tool\n",
    "from langchain.agents.agent_types import AgentType\n",
    "from langchain.llms.ollama import Ollama\n",
    "from langchain.tools import tool\n",
    "import requests\n",
    "from bs4 import BeautifulSoup\n",
    "\n",
    "# 🧠 Initialize the local Ollama model\n",
    "llm = Ollama(model=\"llama3.2:3b\")  # Replace with the model you're using, like 'mistral'\n",
    "\n",
    "# 🛠️ Create a custom tool for scraping\n",
    "@tool\n",
    "def scrape_website(url: str) -> str:\n",
    "    \"\"\"Scrapes and returns main text content from a given URL.\"\"\"\n",
    "    try:\n",
    "        response = requests.get(url)\n",
    "        soup = BeautifulSoup(response.text, 'html.parser')\n",
    "        # Extract paragraphs and join them\n",
    "        paragraphs = soup.find_all('p')\n",
    "        text = \"\\n\".join(p.get_text() for p in paragraphs)\n",
    "        return text[:5000]  # Keep it under token limit\n",
    "    except Exception as e:\n",
    "        return f\"Error scraping site: {e}\"\n",
    "\n",
    "# 🧠 Create the agent with the scraping tool\n",
    "tools = [scrape_website]\n",
    "\n",
    "agent = initialize_agent(\n",
    "    tools,\n",
    "    llm,\n",
    "    agent=AgentType.ZERO_SHOT_REACT_DESCRIPTION,\n",
    "    verbose=True\n",
    ")\n",
    "\n",
    "# ✅ Use the agent\n",
    "url = \"https://www.nu.nl/economie/6351918/boeing-schikt-met-deel-nabestaanden-van-slachtoffers-ethiopian-airlines-crash.html\"\n",
    "scraped_text = agent.run(f\"Scrape the website: {url}\")\n",
    "\n",
    "# 📝 Summarize the scraped content\n",
    "summary_prompt = f\"Please summarize the following content:\\n\\n{scraped_text}\"\n",
    "summary = llm(summary_prompt)\n",
    "\n",
    "print(\"\\n📌 Summary:\")\n",
    "print(summary)\n"
   ]
  },
  {
   "cell_type": "code",
   "execution_count": null,
   "id": "a637c8ee",
   "metadata": {},
   "outputs": [],
   "source": []
  }
 ],
 "metadata": {
  "kernelspec": {
   "display_name": "ibm_hack",
   "language": "python",
   "name": "python3"
  },
  "language_info": {
   "codemirror_mode": {
    "name": "ipython",
    "version": 3
   },
   "file_extension": ".py",
   "mimetype": "text/x-python",
   "name": "python",
   "nbconvert_exporter": "python",
   "pygments_lexer": "ipython3",
   "version": "3.12.9"
  }
 },
 "nbformat": 4,
 "nbformat_minor": 5
}
